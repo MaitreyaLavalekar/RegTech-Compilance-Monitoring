{
 "cells": [
  {
   "cell_type": "code",
   "execution_count": 1,
   "id": "e22f6d96-eeaf-414f-bf8a-6397fa6901cb",
   "metadata": {},
   "outputs": [],
   "source": [
    "#importing Lib\n"
   ]
  },
  {
   "cell_type": "code",
   "execution_count": 2,
   "id": "8a706c09-d1cb-4899-9ade-551f3124cbfe",
   "metadata": {},
   "outputs": [],
   "source": [
    "import pandas as pd\n",
    "import numpy as np"
   ]
  },
  {
   "cell_type": "code",
   "execution_count": 3,
   "id": "90940fc2-3e8c-481e-904a-bf4ffde85ead",
   "metadata": {},
   "outputs": [],
   "source": [
    "# Load dataset"
   ]
  },
  {
   "cell_type": "code",
   "execution_count": 4,
   "id": "c8c1096c-bccf-45dc-8329-0c12c903ac2f",
   "metadata": {},
   "outputs": [],
   "source": [
    "RegTech = pd.read_csv('PS_2017_log.csv', low_memory=False)\n"
   ]
  },
  {
   "cell_type": "code",
   "execution_count": 5,
   "id": "6ac2a248-37ec-48ec-b2a9-3104a1eda66e",
   "metadata": {},
   "outputs": [
    {
     "data": {
      "text/html": [
       "<div>\n",
       "<style scoped>\n",
       "    .dataframe tbody tr th:only-of-type {\n",
       "        vertical-align: middle;\n",
       "    }\n",
       "\n",
       "    .dataframe tbody tr th {\n",
       "        vertical-align: top;\n",
       "    }\n",
       "\n",
       "    .dataframe thead th {\n",
       "        text-align: right;\n",
       "    }\n",
       "</style>\n",
       "<table border=\"1\" class=\"dataframe\">\n",
       "  <thead>\n",
       "    <tr style=\"text-align: right;\">\n",
       "      <th></th>\n",
       "      <th>step</th>\n",
       "      <th>type</th>\n",
       "      <th>amount</th>\n",
       "      <th>nameOrig</th>\n",
       "      <th>oldbalanceOrg</th>\n",
       "      <th>newbalanceOrig</th>\n",
       "      <th>nameDest</th>\n",
       "      <th>oldbalanceDest</th>\n",
       "      <th>newbalanceDest</th>\n",
       "      <th>isFraud</th>\n",
       "      <th>isFlaggedFraud</th>\n",
       "    </tr>\n",
       "  </thead>\n",
       "  <tbody>\n",
       "    <tr>\n",
       "      <th>0</th>\n",
       "      <td>1</td>\n",
       "      <td>PAYMENT</td>\n",
       "      <td>9839.64</td>\n",
       "      <td>C1231006815</td>\n",
       "      <td>170136.0</td>\n",
       "      <td>160296.36</td>\n",
       "      <td>M1979787155</td>\n",
       "      <td>0.0</td>\n",
       "      <td>0.0</td>\n",
       "      <td>0</td>\n",
       "      <td>0</td>\n",
       "    </tr>\n",
       "    <tr>\n",
       "      <th>1</th>\n",
       "      <td>1</td>\n",
       "      <td>PAYMENT</td>\n",
       "      <td>1864.28</td>\n",
       "      <td>C1666544295</td>\n",
       "      <td>21249.0</td>\n",
       "      <td>19384.72</td>\n",
       "      <td>M2044282225</td>\n",
       "      <td>0.0</td>\n",
       "      <td>0.0</td>\n",
       "      <td>0</td>\n",
       "      <td>0</td>\n",
       "    </tr>\n",
       "    <tr>\n",
       "      <th>2</th>\n",
       "      <td>1</td>\n",
       "      <td>TRANSFER</td>\n",
       "      <td>181.00</td>\n",
       "      <td>C1305486145</td>\n",
       "      <td>181.0</td>\n",
       "      <td>0.00</td>\n",
       "      <td>C553264065</td>\n",
       "      <td>0.0</td>\n",
       "      <td>0.0</td>\n",
       "      <td>1</td>\n",
       "      <td>0</td>\n",
       "    </tr>\n",
       "    <tr>\n",
       "      <th>3</th>\n",
       "      <td>1</td>\n",
       "      <td>CASH_OUT</td>\n",
       "      <td>181.00</td>\n",
       "      <td>C840083671</td>\n",
       "      <td>181.0</td>\n",
       "      <td>0.00</td>\n",
       "      <td>C38997010</td>\n",
       "      <td>21182.0</td>\n",
       "      <td>0.0</td>\n",
       "      <td>1</td>\n",
       "      <td>0</td>\n",
       "    </tr>\n",
       "    <tr>\n",
       "      <th>4</th>\n",
       "      <td>1</td>\n",
       "      <td>PAYMENT</td>\n",
       "      <td>11668.14</td>\n",
       "      <td>C2048537720</td>\n",
       "      <td>41554.0</td>\n",
       "      <td>29885.86</td>\n",
       "      <td>M1230701703</td>\n",
       "      <td>0.0</td>\n",
       "      <td>0.0</td>\n",
       "      <td>0</td>\n",
       "      <td>0</td>\n",
       "    </tr>\n",
       "  </tbody>\n",
       "</table>\n",
       "</div>"
      ],
      "text/plain": [
       "   step      type    amount     nameOrig  oldbalanceOrg  newbalanceOrig  \\\n",
       "0     1   PAYMENT   9839.64  C1231006815       170136.0       160296.36   \n",
       "1     1   PAYMENT   1864.28  C1666544295        21249.0        19384.72   \n",
       "2     1  TRANSFER    181.00  C1305486145          181.0            0.00   \n",
       "3     1  CASH_OUT    181.00   C840083671          181.0            0.00   \n",
       "4     1   PAYMENT  11668.14  C2048537720        41554.0        29885.86   \n",
       "\n",
       "      nameDest  oldbalanceDest  newbalanceDest  isFraud  isFlaggedFraud  \n",
       "0  M1979787155             0.0             0.0        0               0  \n",
       "1  M2044282225             0.0             0.0        0               0  \n",
       "2   C553264065             0.0             0.0        1               0  \n",
       "3    C38997010         21182.0             0.0        1               0  \n",
       "4  M1230701703             0.0             0.0        0               0  "
      ]
     },
     "execution_count": 5,
     "metadata": {},
     "output_type": "execute_result"
    }
   ],
   "source": [
    "RegTech.head(5)"
   ]
  },
  {
   "cell_type": "code",
   "execution_count": 6,
   "id": "9670c222-99fb-4940-8803-ba0e94c16d5b",
   "metadata": {},
   "outputs": [
    {
     "data": {
      "text/html": [
       "<div>\n",
       "<style scoped>\n",
       "    .dataframe tbody tr th:only-of-type {\n",
       "        vertical-align: middle;\n",
       "    }\n",
       "\n",
       "    .dataframe tbody tr th {\n",
       "        vertical-align: top;\n",
       "    }\n",
       "\n",
       "    .dataframe thead th {\n",
       "        text-align: right;\n",
       "    }\n",
       "</style>\n",
       "<table border=\"1\" class=\"dataframe\">\n",
       "  <thead>\n",
       "    <tr style=\"text-align: right;\">\n",
       "      <th></th>\n",
       "      <th>step</th>\n",
       "      <th>type</th>\n",
       "      <th>amount</th>\n",
       "      <th>nameOrig</th>\n",
       "      <th>oldbalanceOrg</th>\n",
       "      <th>newbalanceOrig</th>\n",
       "      <th>nameDest</th>\n",
       "      <th>oldbalanceDest</th>\n",
       "      <th>newbalanceDest</th>\n",
       "      <th>isFraud</th>\n",
       "      <th>isFlaggedFraud</th>\n",
       "    </tr>\n",
       "  </thead>\n",
       "  <tbody>\n",
       "    <tr>\n",
       "      <th>1048570</th>\n",
       "      <td>95</td>\n",
       "      <td>CASH_OUT</td>\n",
       "      <td>132557.35</td>\n",
       "      <td>C1179511630</td>\n",
       "      <td>479803.00</td>\n",
       "      <td>347245.65</td>\n",
       "      <td>C435674507</td>\n",
       "      <td>484329.37</td>\n",
       "      <td>616886.72</td>\n",
       "      <td>0</td>\n",
       "      <td>0</td>\n",
       "    </tr>\n",
       "    <tr>\n",
       "      <th>1048571</th>\n",
       "      <td>95</td>\n",
       "      <td>PAYMENT</td>\n",
       "      <td>9917.36</td>\n",
       "      <td>C1956161225</td>\n",
       "      <td>90545.00</td>\n",
       "      <td>80627.64</td>\n",
       "      <td>M668364942</td>\n",
       "      <td>0.00</td>\n",
       "      <td>0.00</td>\n",
       "      <td>0</td>\n",
       "      <td>0</td>\n",
       "    </tr>\n",
       "    <tr>\n",
       "      <th>1048572</th>\n",
       "      <td>95</td>\n",
       "      <td>PAYMENT</td>\n",
       "      <td>14140.05</td>\n",
       "      <td>C2037964975</td>\n",
       "      <td>20545.00</td>\n",
       "      <td>6404.95</td>\n",
       "      <td>M1355182933</td>\n",
       "      <td>0.00</td>\n",
       "      <td>0.00</td>\n",
       "      <td>0</td>\n",
       "      <td>0</td>\n",
       "    </tr>\n",
       "    <tr>\n",
       "      <th>1048573</th>\n",
       "      <td>95</td>\n",
       "      <td>PAYMENT</td>\n",
       "      <td>10020.05</td>\n",
       "      <td>C1633237354</td>\n",
       "      <td>90605.00</td>\n",
       "      <td>80584.95</td>\n",
       "      <td>M1964992463</td>\n",
       "      <td>0.00</td>\n",
       "      <td>0.00</td>\n",
       "      <td>0</td>\n",
       "      <td>0</td>\n",
       "    </tr>\n",
       "    <tr>\n",
       "      <th>1048574</th>\n",
       "      <td>95</td>\n",
       "      <td>PAYMENT</td>\n",
       "      <td>11450.03</td>\n",
       "      <td>C1264356443</td>\n",
       "      <td>80584.95</td>\n",
       "      <td>69134.92</td>\n",
       "      <td>M677577406</td>\n",
       "      <td>0.00</td>\n",
       "      <td>0.00</td>\n",
       "      <td>0</td>\n",
       "      <td>0</td>\n",
       "    </tr>\n",
       "  </tbody>\n",
       "</table>\n",
       "</div>"
      ],
      "text/plain": [
       "         step      type     amount     nameOrig  oldbalanceOrg  \\\n",
       "1048570    95  CASH_OUT  132557.35  C1179511630      479803.00   \n",
       "1048571    95   PAYMENT    9917.36  C1956161225       90545.00   \n",
       "1048572    95   PAYMENT   14140.05  C2037964975       20545.00   \n",
       "1048573    95   PAYMENT   10020.05  C1633237354       90605.00   \n",
       "1048574    95   PAYMENT   11450.03  C1264356443       80584.95   \n",
       "\n",
       "         newbalanceOrig     nameDest  oldbalanceDest  newbalanceDest  isFraud  \\\n",
       "1048570       347245.65   C435674507       484329.37       616886.72        0   \n",
       "1048571        80627.64   M668364942            0.00            0.00        0   \n",
       "1048572         6404.95  M1355182933            0.00            0.00        0   \n",
       "1048573        80584.95  M1964992463            0.00            0.00        0   \n",
       "1048574        69134.92   M677577406            0.00            0.00        0   \n",
       "\n",
       "         isFlaggedFraud  \n",
       "1048570               0  \n",
       "1048571               0  \n",
       "1048572               0  \n",
       "1048573               0  \n",
       "1048574               0  "
      ]
     },
     "execution_count": 6,
     "metadata": {},
     "output_type": "execute_result"
    }
   ],
   "source": [
    "RegTech.tail(5)"
   ]
  },
  {
   "cell_type": "code",
   "execution_count": 7,
   "id": "76b18cdb-5d52-4cac-ba7a-8279f1f54042",
   "metadata": {},
   "outputs": [],
   "source": [
    "# Shape of dataset"
   ]
  },
  {
   "cell_type": "code",
   "execution_count": 8,
   "id": "4b5ccc10-6ef9-433e-a957-5714b7e0c562",
   "metadata": {},
   "outputs": [
    {
     "name": "stdout",
     "output_type": "stream",
     "text": [
      "Dataset shape: (1048575, 11)\n"
     ]
    }
   ],
   "source": [
    "print(\"Dataset shape:\", RegTech.shape)"
   ]
  },
  {
   "cell_type": "code",
   "execution_count": 9,
   "id": "0a89bcde-a269-4a38-bf9e-64ecc7abb624",
   "metadata": {},
   "outputs": [],
   "source": [
    "# Cheking datatypes and null values "
   ]
  },
  {
   "cell_type": "code",
   "execution_count": 10,
   "id": "9ca9a83d-df64-461c-a426-cdb581c8d47b",
   "metadata": {},
   "outputs": [
    {
     "name": "stdout",
     "output_type": "stream",
     "text": [
      "<class 'pandas.core.frame.DataFrame'>\n",
      "RangeIndex: 1048575 entries, 0 to 1048574\n",
      "Data columns (total 11 columns):\n",
      " #   Column          Non-Null Count    Dtype  \n",
      "---  ------          --------------    -----  \n",
      " 0   step            1048575 non-null  int64  \n",
      " 1   type            1048575 non-null  object \n",
      " 2   amount          1048575 non-null  float64\n",
      " 3   nameOrig        1048575 non-null  object \n",
      " 4   oldbalanceOrg   1048575 non-null  float64\n",
      " 5   newbalanceOrig  1048575 non-null  float64\n",
      " 6   nameDest        1048575 non-null  object \n",
      " 7   oldbalanceDest  1048575 non-null  float64\n",
      " 8   newbalanceDest  1048575 non-null  float64\n",
      " 9   isFraud         1048575 non-null  int64  \n",
      " 10  isFlaggedFraud  1048575 non-null  int64  \n",
      "dtypes: float64(5), int64(3), object(3)\n",
      "memory usage: 88.0+ MB\n"
     ]
    }
   ],
   "source": [
    "RegTech.info()"
   ]
  },
  {
   "cell_type": "code",
   "execution_count": 11,
   "id": "6703576b-596d-41c6-a7ac-23b813db94f8",
   "metadata": {},
   "outputs": [],
   "source": [
    "# Statistical summary"
   ]
  },
  {
   "cell_type": "code",
   "execution_count": 12,
   "id": "2f2d4418-da8b-47ad-9cc1-d99a3e1aeebd",
   "metadata": {},
   "outputs": [
    {
     "data": {
      "text/html": [
       "<div>\n",
       "<style scoped>\n",
       "    .dataframe tbody tr th:only-of-type {\n",
       "        vertical-align: middle;\n",
       "    }\n",
       "\n",
       "    .dataframe tbody tr th {\n",
       "        vertical-align: top;\n",
       "    }\n",
       "\n",
       "    .dataframe thead th {\n",
       "        text-align: right;\n",
       "    }\n",
       "</style>\n",
       "<table border=\"1\" class=\"dataframe\">\n",
       "  <thead>\n",
       "    <tr style=\"text-align: right;\">\n",
       "      <th></th>\n",
       "      <th>step</th>\n",
       "      <th>amount</th>\n",
       "      <th>oldbalanceOrg</th>\n",
       "      <th>newbalanceOrig</th>\n",
       "      <th>oldbalanceDest</th>\n",
       "      <th>newbalanceDest</th>\n",
       "      <th>isFraud</th>\n",
       "      <th>isFlaggedFraud</th>\n",
       "    </tr>\n",
       "  </thead>\n",
       "  <tbody>\n",
       "    <tr>\n",
       "      <th>count</th>\n",
       "      <td>1.048575e+06</td>\n",
       "      <td>1.048575e+06</td>\n",
       "      <td>1.048575e+06</td>\n",
       "      <td>1.048575e+06</td>\n",
       "      <td>1.048575e+06</td>\n",
       "      <td>1.048575e+06</td>\n",
       "      <td>1.048575e+06</td>\n",
       "      <td>1048575.0</td>\n",
       "    </tr>\n",
       "    <tr>\n",
       "      <th>mean</th>\n",
       "      <td>2.696617e+01</td>\n",
       "      <td>1.586670e+05</td>\n",
       "      <td>8.740095e+05</td>\n",
       "      <td>8.938089e+05</td>\n",
       "      <td>9.781600e+05</td>\n",
       "      <td>1.114198e+06</td>\n",
       "      <td>1.089097e-03</td>\n",
       "      <td>0.0</td>\n",
       "    </tr>\n",
       "    <tr>\n",
       "      <th>std</th>\n",
       "      <td>1.562325e+01</td>\n",
       "      <td>2.649409e+05</td>\n",
       "      <td>2.971751e+06</td>\n",
       "      <td>3.008271e+06</td>\n",
       "      <td>2.296780e+06</td>\n",
       "      <td>2.416593e+06</td>\n",
       "      <td>3.298351e-02</td>\n",
       "      <td>0.0</td>\n",
       "    </tr>\n",
       "    <tr>\n",
       "      <th>min</th>\n",
       "      <td>1.000000e+00</td>\n",
       "      <td>1.000000e-01</td>\n",
       "      <td>0.000000e+00</td>\n",
       "      <td>0.000000e+00</td>\n",
       "      <td>0.000000e+00</td>\n",
       "      <td>0.000000e+00</td>\n",
       "      <td>0.000000e+00</td>\n",
       "      <td>0.0</td>\n",
       "    </tr>\n",
       "    <tr>\n",
       "      <th>25%</th>\n",
       "      <td>1.500000e+01</td>\n",
       "      <td>1.214907e+04</td>\n",
       "      <td>0.000000e+00</td>\n",
       "      <td>0.000000e+00</td>\n",
       "      <td>0.000000e+00</td>\n",
       "      <td>0.000000e+00</td>\n",
       "      <td>0.000000e+00</td>\n",
       "      <td>0.0</td>\n",
       "    </tr>\n",
       "    <tr>\n",
       "      <th>50%</th>\n",
       "      <td>2.000000e+01</td>\n",
       "      <td>7.634333e+04</td>\n",
       "      <td>1.600200e+04</td>\n",
       "      <td>0.000000e+00</td>\n",
       "      <td>1.263772e+05</td>\n",
       "      <td>2.182604e+05</td>\n",
       "      <td>0.000000e+00</td>\n",
       "      <td>0.0</td>\n",
       "    </tr>\n",
       "    <tr>\n",
       "      <th>75%</th>\n",
       "      <td>3.900000e+01</td>\n",
       "      <td>2.137619e+05</td>\n",
       "      <td>1.366420e+05</td>\n",
       "      <td>1.746000e+05</td>\n",
       "      <td>9.159235e+05</td>\n",
       "      <td>1.149808e+06</td>\n",
       "      <td>0.000000e+00</td>\n",
       "      <td>0.0</td>\n",
       "    </tr>\n",
       "    <tr>\n",
       "      <th>max</th>\n",
       "      <td>9.500000e+01</td>\n",
       "      <td>1.000000e+07</td>\n",
       "      <td>3.890000e+07</td>\n",
       "      <td>3.890000e+07</td>\n",
       "      <td>4.210000e+07</td>\n",
       "      <td>4.220000e+07</td>\n",
       "      <td>1.000000e+00</td>\n",
       "      <td>0.0</td>\n",
       "    </tr>\n",
       "  </tbody>\n",
       "</table>\n",
       "</div>"
      ],
      "text/plain": [
       "               step        amount  oldbalanceOrg  newbalanceOrig  \\\n",
       "count  1.048575e+06  1.048575e+06   1.048575e+06    1.048575e+06   \n",
       "mean   2.696617e+01  1.586670e+05   8.740095e+05    8.938089e+05   \n",
       "std    1.562325e+01  2.649409e+05   2.971751e+06    3.008271e+06   \n",
       "min    1.000000e+00  1.000000e-01   0.000000e+00    0.000000e+00   \n",
       "25%    1.500000e+01  1.214907e+04   0.000000e+00    0.000000e+00   \n",
       "50%    2.000000e+01  7.634333e+04   1.600200e+04    0.000000e+00   \n",
       "75%    3.900000e+01  2.137619e+05   1.366420e+05    1.746000e+05   \n",
       "max    9.500000e+01  1.000000e+07   3.890000e+07    3.890000e+07   \n",
       "\n",
       "       oldbalanceDest  newbalanceDest       isFraud  isFlaggedFraud  \n",
       "count    1.048575e+06    1.048575e+06  1.048575e+06       1048575.0  \n",
       "mean     9.781600e+05    1.114198e+06  1.089097e-03             0.0  \n",
       "std      2.296780e+06    2.416593e+06  3.298351e-02             0.0  \n",
       "min      0.000000e+00    0.000000e+00  0.000000e+00             0.0  \n",
       "25%      0.000000e+00    0.000000e+00  0.000000e+00             0.0  \n",
       "50%      1.263772e+05    2.182604e+05  0.000000e+00             0.0  \n",
       "75%      9.159235e+05    1.149808e+06  0.000000e+00             0.0  \n",
       "max      4.210000e+07    4.220000e+07  1.000000e+00             0.0  "
      ]
     },
     "execution_count": 12,
     "metadata": {},
     "output_type": "execute_result"
    }
   ],
   "source": [
    "RegTech.describe()"
   ]
  },
  {
   "cell_type": "code",
   "execution_count": 13,
   "id": "a7c03b43-09c1-4c61-bdc5-e2c1c2c4d2f7",
   "metadata": {},
   "outputs": [
    {
     "data": {
      "text/plain": [
       "Index(['step', 'type', 'amount', 'nameOrig', 'oldbalanceOrg', 'newbalanceOrig',\n",
       "       'nameDest', 'oldbalanceDest', 'newbalanceDest', 'isFraud',\n",
       "       'isFlaggedFraud'],\n",
       "      dtype='object')"
      ]
     },
     "execution_count": 13,
     "metadata": {},
     "output_type": "execute_result"
    }
   ],
   "source": [
    "RegTech.columns"
   ]
  },
  {
   "cell_type": "code",
   "execution_count": 14,
   "id": "45f26ae9-819a-4019-9325-6d4f4e9f2669",
   "metadata": {},
   "outputs": [],
   "source": [
    "#Basic EDA"
   ]
  },
  {
   "cell_type": "code",
   "execution_count": 15,
   "id": "b1b5fa45-ea87-4a46-a529-1f89b8affd81",
   "metadata": {},
   "outputs": [
    {
     "name": "stdout",
     "output_type": "stream",
     "text": [
      "type\n",
      "CASH_OUT    373641\n",
      "PAYMENT     353873\n",
      "CASH_IN     227130\n",
      "TRANSFER     86753\n",
      "DEBIT         7178\n",
      "Name: count, dtype: int64\n"
     ]
    },
    {
     "data": {
      "text/plain": [
       "isFraud\n",
       "0    0.998911\n",
       "1    0.001089\n",
       "Name: proportion, dtype: float64"
      ]
     },
     "execution_count": 15,
     "metadata": {},
     "output_type": "execute_result"
    }
   ],
   "source": [
    "# Unique transaction types\n",
    "print(RegTech['type'].value_counts())\n",
    "\n",
    "# Distribution of amounts\n",
    "RegTech['amount'].describe()\n",
    "\n",
    "# Check for missing values\n",
    "RegTech.isnull().sum()\n",
    "\n",
    "# Fraud vs non-fraud count\n",
    "RegTech['isFraud'].value_counts(normalize=True)\n"
   ]
  },
  {
   "cell_type": "code",
   "execution_count": 16,
   "id": "015b5be5-5cdf-41f9-8b3b-034142d70683",
   "metadata": {},
   "outputs": [],
   "source": [
    "#creatinh initial compliance rules based on common regulatory patterns"
   ]
  },
  {
   "cell_type": "markdown",
   "id": "2f125f26-034b-4e18-ac81-da8f0b6f1474",
   "metadata": {},
   "source": [
    "### Step 1: Adding  Rule-Based Flags"
   ]
  },
  {
   "cell_type": "markdown",
   "id": "91222c76-fcfa-4edb-b0a8-cc1c700c89b2",
   "metadata": {},
   "source": [
    "#Copying dataframe to avoide overwritting"
   ]
  },
  {
   "cell_type": "code",
   "execution_count": 17,
   "id": "db29d214-47ec-4f58-b950-8206fb2a69ae",
   "metadata": {},
   "outputs": [],
   "source": [
    "RegTech_rules = RegTech.copy()"
   ]
  },
  {
   "cell_type": "markdown",
   "id": "23732929-744f-4728-880a-7e259d91f8e5",
   "metadata": {},
   "source": [
    "#### Rule N0 1:- High amount Transactions (e.g>$10000)"
   ]
  },
  {
   "cell_type": "code",
   "execution_count": 18,
   "id": "2dfc0735-a5d6-4c53-9c55-5d4b72abfbeb",
   "metadata": {},
   "outputs": [],
   "source": [
    "RegTech_rules['rule_high_amount'] = RegTech_rules['amount'] > 10000"
   ]
  },
  {
   "cell_type": "markdown",
   "id": "63cdc2b7-187e-4548-a6d8-ee7bd49e8315",
   "metadata": {},
   "source": [
    "#### Rule No 2: Multiple transfer by the same sender in a short time "
   ]
  },
  {
   "cell_type": "code",
   "execution_count": 19,
   "id": "d925e7d8-d473-480d-b7a8-b0a0166ef71a",
   "metadata": {},
   "outputs": [],
   "source": [
    "RegTech_rules['rule_frequent_sender'] = RegTech_rules.duplicated(subset=['nameOrig', 'step'], keep=False)"
   ]
  },
  {
   "cell_type": "markdown",
   "id": "761c846f-0ebf-46c3-aed9-2e2f9381d2bb",
   "metadata": {},
   "source": [
    "#### Rule 3: Cash-out immediately after transfer (possible layering)"
   ]
  },
  {
   "cell_type": "code",
   "execution_count": 20,
   "id": "5943af3b-ae57-40dc-b2c7-8d41b34969dc",
   "metadata": {},
   "outputs": [],
   "source": [
    "RegTech_rules['rule_cashout_after_transfer'] = (\n",
    "    (RegTech_rules['type'] == 'CASH_OUT') &\n",
    "    (RegTech_rules['nameOrig'].isin(RegTech_rules.loc[RegTech_rules['type'] == 'TRANSFER', 'nameDest']))\n",
    ")"
   ]
  },
  {
   "cell_type": "markdown",
   "id": "6392edb3-1a22-412d-b83e-1612349c479d",
   "metadata": {},
   "source": [
    "#### Combine Rule flag "
   ]
  },
  {
   "cell_type": "code",
   "execution_count": 21,
   "id": "a24bb408-6825-450e-bf5c-e7bd7e7014c1",
   "metadata": {},
   "outputs": [],
   "source": [
    "RegTech_rules['rule_flagged'] = RegTech_rules[['rule_high_amount', 'rule_frequent_sender', 'rule_cashout_after_transfer']].any(axis=1)"
   ]
  },
  {
   "cell_type": "markdown",
   "id": "80275eda-be02-4120-936d-57243f2fbe9d",
   "metadata": {},
   "source": [
    "#### Check how many were flagged by rules\n"
   ]
  },
  {
   "cell_type": "code",
   "execution_count": 22,
   "id": "b75b267a-9726-4b3b-b1db-a9ba6016bc60",
   "metadata": {},
   "outputs": [
    {
     "data": {
      "text/plain": [
       "rule_flagged\n",
       "True     0.783973\n",
       "False    0.216027\n",
       "Name: proportion, dtype: float64"
      ]
     },
     "execution_count": 22,
     "metadata": {},
     "output_type": "execute_result"
    }
   ],
   "source": [
    "RegTech_rules['rule_flagged'].value_counts(normalize=True)"
   ]
  },
  {
   "cell_type": "markdown",
   "id": "43f0daef-693b-4fe4-993d-6063dc104f3c",
   "metadata": {},
   "source": [
    "### Step 2 Inspecting rule effectiveness"
   ]
  },
  {
   "cell_type": "code",
   "execution_count": 23,
   "id": "b559229c-a7d5-4239-94dd-b42c178b3e23",
   "metadata": {},
   "outputs": [
    {
     "name": "stdout",
     "output_type": "stream",
     "text": [
      "rule_high_amount               78.397158\n",
      "rule_frequent_sender            0.002289\n",
      "rule_cashout_after_transfer     0.000381\n",
      "dtype: float64\n"
     ]
    }
   ],
   "source": [
    "# Check how many records each rule flagged\n",
    "rule_counts = RegTech_rules[['rule_high_amount', 'rule_frequent_sender', 'rule_cashout_after_transfer']].sum()\n",
    "# Percentage contribution\n",
    "rule_percentage = (rule_counts / len(RegTech_rules)) * 100\n",
    "print(rule_percentage)"
   ]
  },
  {
   "cell_type": "markdown",
   "id": "1256418b-1beb-47d7-94f6-9b1d6b00914a",
   "metadata": {},
   "source": [
    "### Step 3: Compare Rule Flags vs Actual Non-Compliance (isFraud)"
   ]
  },
  {
   "cell_type": "code",
   "execution_count": 24,
   "id": "09c7214b-d031-4650-85db-e302ea514f78",
   "metadata": {},
   "outputs": [
    {
     "name": "stdout",
     "output_type": "stream",
     "text": [
      "[[226464 820969]\n",
      " [    56   1086]]\n",
      "              precision    recall  f1-score   support\n",
      "\n",
      "           0       1.00      0.22      0.36   1047433\n",
      "           1       0.00      0.95      0.00      1142\n",
      "\n",
      "    accuracy                           0.22   1048575\n",
      "   macro avg       0.50      0.58      0.18   1048575\n",
      "weighted avg       1.00      0.22      0.36   1048575\n",
      "\n"
     ]
    }
   ],
   "source": [
    "from sklearn.metrics import confusion_matrix, classification_report\n",
    "\n",
    "print(confusion_matrix(RegTech_rules['isFraud'], RegTech_rules['rule_flagged']))\n",
    "print(classification_report(RegTech_rules['isFraud'], RegTech_rules['rule_flagged']))\n"
   ]
  },
  {
   "cell_type": "markdown",
   "id": "a93858ca-dc0f-4c26-a7d2-db0bc1f75d88",
   "metadata": {},
   "source": [
    "##### Interpretation:\n",
    "\n",
    "######  Recall (1 → 0.95): Your rules catch almost all true non-compliance cases — great for compliance (high recall).\n",
    "\n",
    "###### Precision (1 → 0.00): But they flag too many false positives (most flagged transactions aren’t actually non-compliant).\n",
    "\n",
    "###### Accuracy (0.22): Not meaningful here — compliance tasks value recall over accuracy.\n",
    "\n",
    "###### Conclusion: This is exactly how rule-based systems behave in real-world RegTech-very high recall but poor precision."
   ]
  },
  {
   "cell_type": "markdown",
   "id": "ad61ec71-c56b-4b2b-8e9f-5c0ba67773e1",
   "metadata": {},
   "source": [
    "### Feature Engineering "
   ]
  },
  {
   "cell_type": "markdown",
   "id": "c0aacdae-d85a-41d8-a678-9477d529b36a",
   "metadata": {},
   "source": [
    "##### create new engineered features to feed into an ML model that learns subtle compliance patterns"
   ]
  },
  {
   "cell_type": "code",
   "execution_count": 25,
   "id": "c36c0a8e-e55b-4d60-aed6-921bae941402",
   "metadata": {},
   "outputs": [],
   "source": [
    "import pandas as pd\n",
    "import numpy as np\n",
    "from sklearn.preprocessing import LabelEncoder\n",
    "\n",
    "RegTech_feature = RegTech_rules.copy()\n",
    "\n",
    "# Encode transaction type\n",
    "le = LabelEncoder()\n",
    "RegTech_feature['type_encoded'] = le.fit_transform(RegTech_feature['type'])\n",
    "\n",
    "# Compute ratio features\n",
    "RegTech_feature['amount_ratio'] = np.where(RegTech_feature['oldbalanceOrg'] != 0,\n",
    "                                 RegTech_feature['amount'] / RegTech_feature['oldbalanceOrg'], 0)\n",
    "\n",
    "RegTech_feature['balance_diff'] = RegTech_feature['oldbalanceOrg'] - RegTech_feature['newbalanceOrig']\n",
    "\n",
    "# Frequency of transactions per sender\n",
    "txn_freq = RegTech_feature.groupby('nameOrig')['step'].transform('count')\n",
    "RegTech_feature['txn_frequency'] = txn_freq\n",
    "\n",
    "# Average amount per sender\n",
    "avg_amt = RegTech_feature.groupby('nameOrig')['amount'].transform('mean')\n",
    "RegTech_feature['avg_amount_sender'] = avg_amt\n",
    "\n",
    "# Select features and target\n",
    "features = ['amount', 'type_encoded', 'amount_ratio', 'balance_diff',\n",
    "            'txn_frequency', 'avg_amount_sender', 'rule_high_amount']\n",
    "target = 'isFraud'\n",
    "\n",
    "X = RegTech_feature[features]\n",
    "y = RegTech_feature[target]\n"
   ]
  },
  {
   "cell_type": "code",
   "execution_count": 26,
   "id": "362076e3-2e4b-48c8-88aa-a88bd931aff3",
   "metadata": {},
   "outputs": [],
   "source": [
    "#### Model Training "
   ]
  },
  {
   "cell_type": "code",
   "execution_count": null,
   "id": "902f2f79-c62e-41ee-a134-573679932583",
   "metadata": {},
   "outputs": [],
   "source": [
    "from sklearn.model_selection import train_test_split\n",
    "from sklearn.ensemble import RandomForestClassifier\n",
    "from sklearn.metrics import classification_report\n",
    "\n",
    "# Split data\n",
    "X_train, X_test, y_train, y_test = train_test_split(X, y, test_size=0.2, stratify=y, random_state=42)\n",
    "\n",
    "# Train baseline Random Forest\n",
    "rf = RandomForestClassifier(n_estimators=100, class_weight='balanced', random_state=42)\n",
    "rf.fit(X_train, y_train)\n",
    "\n",
    "# Predictions\n",
    "y_pred = rf.predict(X_test)\n",
    "\n",
    "# Evaluate\n",
    "print(classification_report(y_test, y_pred))\n"
   ]
  },
  {
   "cell_type": "code",
   "execution_count": null,
   "id": "1dec38aa-6e41-4255-b430-95672b903a55",
   "metadata": {},
   "outputs": [],
   "source": [
    "### Model is overfitting so  solving this by explroring data leakage "
   ]
  },
  {
   "cell_type": "code",
   "execution_count": null,
   "id": "785d37ce-54ef-45c8-bc8f-fa2554c6aa19",
   "metadata": {},
   "outputs": [],
   "source": [
    "import seaborn as sns\n",
    "import matplotlib.pyplot as plt\n",
    "\n",
    "# Check correlation with target\n",
    "corr = RegTech_feature[features + [target]].corr()\n",
    "sns.heatmap(corr, annot=True, cmap='coolwarm')\n",
    "plt.show()\n"
   ]
  },
  {
   "cell_type": "code",
   "execution_count": null,
   "id": "e222c7d5-35b9-4bb4-96dc-fde3cc3fc7fb",
   "metadata": {},
   "outputs": [],
   "source": [
    "# Evaluating  on a Smaller Hold-Out Set"
   ]
  },
  {
   "cell_type": "code",
   "execution_count": null,
   "id": "d56c80c2-2a3f-4b9c-adc8-1386894d4fe3",
   "metadata": {},
   "outputs": [],
   "source": [
    "from sklearn.metrics import roc_auc_score, confusion_matrix\n",
    "\n",
    "# Predicted probabilities\n",
    "y_prob = rf.predict_proba(X_test)[:,1]\n",
    "\n",
    "print(\"ROC-AUC:\", roc_auc_score(y_test, y_prob))\n",
    "print(confusion_matrix(y_test, y_pred))\n"
   ]
  },
  {
   "cell_type": "code",
   "execution_count": null,
   "id": "a72f7b5c-77a2-429a-846a-8658699f630d",
   "metadata": {},
   "outputs": [],
   "source": [
    "#### Explanability "
   ]
  },
  {
   "cell_type": "code",
   "execution_count": null,
   "id": "cca1396c-9598-4b7b-96bb-d611a40616c1",
   "metadata": {},
   "outputs": [],
   "source": [
    "import pandas as pd\n",
    "import matplotlib.pyplot as plt\n",
    "\n",
    "feat_importance = pd.Series(rf.feature_importances_, index=features).sort_values(ascending=False)\n",
    "feat_importance.plot(kind='bar', title='Feature Importance')\n",
    "plt.show()\n"
   ]
  },
  {
   "cell_type": "markdown",
   "id": "26800e8d-953b-4b2b-87ce-45e12665bdeb",
   "metadata": {},
   "source": [
    "## Creating Dashboards "
   ]
  },
  {
   "cell_type": "code",
   "execution_count": null,
   "id": "1e49b941-f360-4569-a569-64622def90b7",
   "metadata": {},
   "outputs": [],
   "source": [
    "import pandas as pd\n",
    "import numpy as np\n",
    "import plotly.express as px\n",
    "import plotly.graph_objects as go\n",
    "from sklearn.ensemble import RandomForestClassifier\n",
    "from sklearn.model_selection import train_test_split\n",
    "from sklearn.metrics import classification_report\n"
   ]
  },
  {
   "cell_type": "code",
   "execution_count": null,
   "id": "ca842f0a-0a07-4086-ac95-671212319f8b",
   "metadata": {},
   "outputs": [],
   "source": [
    "###### Generate Prediction Probabilities"
   ]
  },
  {
   "cell_type": "code",
   "execution_count": null,
   "id": "e86e119c-251c-4779-8d68-8b736e8823ad",
   "metadata": {},
   "outputs": [],
   "source": [
    "# Predict probabilities for risk scoring\n",
    "RegTech_feature['risk_score'] = rf.predict_proba(X)[:, 1]\n",
    "\n",
    "# Sort by risk score descending\n",
    "RegTech_top_risk = RegTech_feature.sort_values('risk_score', ascending=False)\n",
    "RegTech_top_risk.head(10)\n"
   ]
  },
  {
   "cell_type": "code",
   "execution_count": null,
   "id": "3ed379ac-2b58-4639-94e4-45bbff59e66a",
   "metadata": {},
   "outputs": [],
   "source": [
    "##### – Visualize Risk Distribution"
   ]
  },
  {
   "cell_type": "code",
   "execution_count": null,
   "id": "ff3ae2e5-ed67-40f8-8c70-a8736fa39b71",
   "metadata": {},
   "outputs": [],
   "source": [
    "fig = px.histogram(RegTech_feature, x='risk_score', nbins=50, title='Distribution of Risk Scores',\n",
    "                   labels={'risk_score': 'Predicted Compliance Risk'},\n",
    "                   color_discrete_sequence=['#636EFA'])\n",
    "fig.show()\n"
   ]
  },
  {
   "cell_type": "code",
   "execution_count": null,
   "id": "b1d6c092-5e9e-48ca-b1b7-64ddae0581b6",
   "metadata": {},
   "outputs": [],
   "source": [
    "##### Top Risky Transactions Table"
   ]
  },
  {
   "cell_type": "code",
   "execution_count": null,
   "id": "0145ba1d-5dac-4e3a-8b84-f89882c90f26",
   "metadata": {},
   "outputs": [],
   "source": [
    "RegTech_top10 = RegTech_top_risk[['nameOrig', 'type', 'amount', 'oldbalanceOrg',\n",
    "                        'newbalanceOrig', 'risk_score']].head(10)\n",
    "\n",
    "fig = go.Figure(data=[go.Table(\n",
    "    header=dict(values=list(RegTech_top10.columns),\n",
    "                fill_color='paleturquoise',\n",
    "                align='left'),\n",
    "    cells=dict(values=[RegTech_top10[col] for col in RegTech_top10.columns],\n",
    "               fill_color='lavender',\n",
    "               align='left'))\n",
    "])\n",
    "\n",
    "fig.update_layout(title='Top 10 High-Risk Transactions')\n",
    "fig.show()\n"
   ]
  },
  {
   "cell_type": "code",
   "execution_count": null,
   "id": "a9775dc6-ee16-4be2-99d5-677472c72aeb",
   "metadata": {},
   "outputs": [],
   "source": [
    "##### Feature importance "
   ]
  },
  {
   "cell_type": "code",
   "execution_count": null,
   "id": "2429c593-2e29-4e06-8c7a-d632ae938302",
   "metadata": {},
   "outputs": [],
   "source": [
    "feat_importance = pd.Series(rf.feature_importances_, index=features).sort_values(ascending=True)\n",
    "fig = px.bar(\n",
    "    x=feat_importance.values, \n",
    "    y=feat_importance.index,\n",
    "    orientation='h',\n",
    "    title='Feature Importance in Compliance Model',\n",
    "    labels={'x': 'Importance', 'y': 'Feature'},\n",
    "    color=feat_importance.values,\n",
    "    color_continuous_scale='Blues'\n",
    ")\n",
    "fig.show()\n"
   ]
  },
  {
   "cell_type": "code",
   "execution_count": null,
   "id": "cbb04566-d6de-418d-aec8-5f99dd4efec4",
   "metadata": {},
   "outputs": [],
   "source": [
    "##### Risk by transaction type "
   ]
  },
  {
   "cell_type": "code",
   "execution_count": null,
   "id": "1c16f4e0-e898-4853-b771-2e12b871330b",
   "metadata": {},
   "outputs": [],
   "source": [
    "fig = px.box(RegTech_feature, x='type', y='risk_score',\n",
    "             title='Risk Score by Transaction Type',\n",
    "             color='type')\n",
    "fig.show()\n"
   ]
  },
  {
   "cell_type": "code",
   "execution_count": null,
   "id": "0a073d81-1244-4db1-965d-7a7aff3b5081",
   "metadata": {},
   "outputs": [],
   "source": [
    "#pip install jupyter-dash plotly dash\n"
   ]
  },
  {
   "cell_type": "code",
   "execution_count": null,
   "id": "e95b872e-fcd4-4bea-bf5a-e3484afdaf79",
   "metadata": {},
   "outputs": [],
   "source": []
  },
  {
   "cell_type": "code",
   "execution_count": null,
   "id": "05927dfd-4cf7-4796-a0fc-3762130993ce",
   "metadata": {},
   "outputs": [],
   "source": [
    "print(type(rf))\n",
    "print(type(RegTech_feature))\n",
    "print(type(features))\n"
   ]
  },
  {
   "cell_type": "code",
   "execution_count": null,
   "id": "27bd01fe-34ec-43ef-b921-6c818445c06c",
   "metadata": {},
   "outputs": [],
   "source": [
    "rf.predict_proba(X)[:, 1]\n"
   ]
  },
  {
   "cell_type": "code",
   "execution_count": null,
   "id": "6f571ec4-465c-4a6a-8bc9-237e6fcd3000",
   "metadata": {},
   "outputs": [],
   "source": [
    "X = RegTech_feature[features]\n"
   ]
  },
  {
   "cell_type": "code",
   "execution_count": null,
   "id": "37ed3936-a96e-4375-b515-1689b0130144",
   "metadata": {},
   "outputs": [],
   "source": [
    "rf\n"
   ]
  },
  {
   "cell_type": "code",
   "execution_count": null,
   "id": "5b4b3e31-0cbd-4041-ab67-a13ff1568138",
   "metadata": {},
   "outputs": [],
   "source": [
    "df_dashboard['risk_score'] = rf.predict_proba(X)[:, 1]\n"
   ]
  },
  {
   "cell_type": "code",
   "execution_count": null,
   "id": "b0a73074-5889-4e54-b208-490e225b3379",
   "metadata": {},
   "outputs": [],
   "source": [
    "if rf is not None and 'predict_proba' in dir(rf):\n",
    "    X = RegTech_feature[features]\n",
    "    df_dashboard['risk_score'] = rf.predict_proba(X)[:, 1]\n",
    "else:\n",
    "    raise ValueError(\"Model `rf` is not fitted or not available.\")\n"
   ]
  },
  {
   "cell_type": "code",
   "execution_count": null,
   "id": "63cc8fe1-213a-4f2b-8596-a702274e8d96",
   "metadata": {},
   "outputs": [],
   "source": []
  },
  {
   "cell_type": "code",
   "execution_count": null,
   "id": "bbb155de-ae67-4b92-9aef-31edb08d02d9",
   "metadata": {},
   "outputs": [],
   "source": []
  },
  {
   "cell_type": "code",
   "execution_count": null,
   "id": "36450427-72fa-4ba9-ba74-cb06d91679ce",
   "metadata": {},
   "outputs": [],
   "source": []
  },
  {
   "cell_type": "code",
   "execution_count": null,
   "id": "01fba18b-f41a-4762-bb5c-ea7b2eac520f",
   "metadata": {},
   "outputs": [],
   "source": [
    "# Install these once (uncomment if not already installed)\n",
    "# !pip install jupyter-dash dash plotly\n",
    "\n",
    "from jupyter_dash import JupyterDash\n",
    "from dash import dcc, html, Input, Output\n",
    "import plotly.express as px\n",
    "import pandas as pd\n",
    "\n",
    "# --------------------------------------------------------------------\n",
    "# Prepare Data\n",
    "# --------------------------------------------------------------------\n",
    "df_dashboard = RegTech_feature.copy()\n",
    "\n",
    "# Create risk levels based on model scores\n",
    "df_dashboard['risk_score'] = rf.predict_proba(X)[:, 1]\n",
    "df_dashboard['risk_level'] = pd.cut(\n",
    "    df_dashboard['risk_score'],\n",
    "    bins=[0, 0.3, 0.7, 1],\n",
    "    labels=['Low', 'Medium', 'High']\n",
    ")\n",
    "\n",
    "# --------------------------------------------------------------------\n",
    "# App Initialization\n",
    "# --------------------------------------------------------------------\n",
    "app = JupyterDash(__name__)\n",
    "\n",
    "# Colors & Theme\n",
    "colors = {\n",
    "    'background': '#0E1117',\n",
    "    'card': '#1E2130',\n",
    "    'text': '#E8E9EB',\n",
    "    'accent1': '#636EFA',\n",
    "    'accent2': '#EF553B',\n",
    "    'accent3': '#00CC96'\n",
    "}\n",
    "\n",
    "# --------------------------------------------------------------------\n",
    "# Dashboard Layout\n",
    "# --------------------------------------------------------------------\n",
    "app.layout = html.Div(style={'backgroundColor': colors['background'], 'padding': '20px'}, children=[\n",
    "\n",
    "    html.H1(\"💼 RegTech Compliance Monitoring Dashboard\",\n",
    "            style={'textAlign': 'center', 'color': colors['accent1']}),\n",
    "\n",
    "    html.Hr(style={'borderColor': colors['accent1']}),\n",
    "\n",
    "    # Dropdown Filter\n",
    "    html.Div([\n",
    "        html.Label(\"Select Transaction Type:\", style={'color': colors['text'], 'fontSize': 16}),\n",
    "        dcc.Dropdown(\n",
    "            id='type_filter',\n",
    "            options=[{'label': t, 'value': t} for t in df_dashboard['type'].unique()],\n",
    "            value='CASH_OUT',\n",
    "            multi=False,\n",
    "            style={'color': '#000'}\n",
    "        )\n",
    "    ], style={'width': '40%', 'margin': 'auto'}),\n",
    "\n",
    "    html.Br(),\n",
    "\n",
    "    # KPI Summary\n",
    "    html.Div(id='summary_cards', style={'display': 'flex', 'justifyContent': 'space-around',\n",
    "                                        'color': colors['text'], 'marginBottom': '25px'}),\n",
    "\n",
    "    # Dashboard Charts\n",
    "    html.Div([\n",
    "        dcc.Graph(id='risk_dist'),\n",
    "        dcc.Graph(id='top_risk_table'),\n",
    "        dcc.Graph(id='feature_importance'),\n",
    "        dcc.Graph(id='risk_by_type')\n",
    "    ])\n",
    "])\n",
    "\n",
    "# --------------------------------------------------------------------\n",
    "# Callbacks (Dynamic Interactivity)\n",
    "# --------------------------------------------------------------------\n",
    "@app.callback(\n",
    "    [Output('summary_cards', 'children'),\n",
    "     Output('risk_dist', 'figure'),\n",
    "     Output('top_risk_table', 'figure'),\n",
    "     Output('feature_importance', 'figure'),\n",
    "     Output('risk_by_type', 'figure')],\n",
    "    [Input('type_filter', 'value')]\n",
    ")\n",
    "def update_dashboard(selected_type):\n",
    "    df_filtered = df_dashboard[df_dashboard['type'] == selected_type]\n",
    "\n",
    "    # ---------- KPIs ----------\n",
    "    total_txn = len(df_filtered)\n",
    "    high_risk = len(df_filtered[df_filtered['risk_level'] == 'High'])\n",
    "    avg_risk = df_filtered['risk_score'].mean()\n",
    "\n",
    "    summary_cards = [\n",
    "        html.Div([\n",
    "            html.H4(\"Total Transactions\"),\n",
    "            html.H2(f\"{total_txn:,}\")\n",
    "        ], style={'backgroundColor': colors['card'], 'padding': '20px', 'borderRadius': '12px', 'width': '25%',\n",
    "                  'textAlign': 'center', 'boxShadow': '0px 0px 10px #111'}),\n",
    "\n",
    "        html.Div([\n",
    "            html.H4(\"High-Risk Transactions\"),\n",
    "            html.H2(f\"{high_risk:,}\")\n",
    "        ], style={'backgroundColor': colors['card'], 'padding': '20px', 'borderRadius': '12px', 'width': '25%',\n",
    "                  'textAlign': 'center', 'boxShadow': '0px 0px 10px #111'}),\n",
    "\n",
    "        html.Div([\n",
    "            html.H4(\"Average Risk Score\"),\n",
    "            html.H2(f\"{avg_risk:.2f}\")\n",
    "        ], style={'backgroundColor': colors['card'], 'padding': '20px', 'borderRadius': '12px', 'width': '25%',\n",
    "                  'textAlign': 'center', 'boxShadow': '0px 0px 10px #111'}),\n",
    "    ]\n",
    "\n",
    "    # ---------- Charts ----------\n",
    "\n",
    "    # 1️⃣ Risk Distribution\n",
    "    fig1 = px.histogram(\n",
    "        df_filtered, x='risk_score', nbins=50,\n",
    "        title='Risk Score Distribution',\n",
    "        color_discrete_sequence=[colors['accent1']]\n",
    "    )\n",
    "    fig1.update_layout(paper_bgcolor=colors['card'], plot_bgcolor=colors['card'], font_color=colors['text'])\n",
    "\n",
    "    # 2️⃣ Top Risky Transactions\n",
    "    top10 = df_filtered.sort_values('risk_score', ascending=False).head(10)\n",
    "    fig2 = px.bar(\n",
    "        top10, x='nameOrig', y='risk_score', color='risk_score',\n",
    "        title='Top 10 Risky Transactions', color_continuous_scale='Reds'\n",
    "    )\n",
    "    fig2.update_layout(paper_bgcolor=colors['card'], plot_bgcolor=colors['card'], font_color=colors['text'])\n",
    "\n",
    "    # 3️⃣ Feature Importance\n",
    "    feat_importance = pd.Series(rf.feature_importances_, index=features).sort_values(ascending=True)\n",
    "    fig3 = px.bar(\n",
    "        x=feat_importance.values, y=feat_importance.index, orientation='h',\n",
    "        title='Feature Importance', color=feat_importance.values,\n",
    "        color_continuous_scale='Blues'\n",
    "    )\n",
    "    fig3.update_layout(paper_bgcolor=colors['card'], plot_bgcolor=colors['card'], font_color=colors['text'])\n",
    "\n",
    "    # 4️⃣ Risk by Transaction Type\n",
    "    fig4 = px.box(df_dashboard, x='type', y='risk_score', color='type',\n",
    "                  title='Risk Score by Transaction Type', color_discrete_sequence=px.colors.qualitative.Vivid)\n",
    "    fig4.update_layout(paper_bgcolor=colors['card'], plot_bgcolor=colors['card'], font_color=colors['text'])\n",
    "\n",
    "    return summary_cards, fig1, fig2, fig3, fig4\n",
    "\n",
    "\n"
   ]
  },
  {
   "cell_type": "code",
   "execution_count": null,
   "id": "7e0c8295-b43b-48c9-9353-4f928381dc55",
   "metadata": {},
   "outputs": [],
   "source": [
    "\n",
    "app.run_server(mode='external', port=8051)\n"
   ]
  },
  {
   "cell_type": "code",
   "execution_count": null,
   "id": "5dddd11d-2f26-43b1-9af2-674d1a6c512d",
   "metadata": {},
   "outputs": [],
   "source": []
  },
  {
   "cell_type": "code",
   "execution_count": null,
   "id": "44656322-6c96-4257-90e2-9f54e4d7aa05",
   "metadata": {},
   "outputs": [],
   "source": []
  },
  {
   "cell_type": "code",
   "execution_count": null,
   "id": "8015b0c4-55fe-4933-b6c0-a54ef8aef54d",
   "metadata": {},
   "outputs": [],
   "source": []
  },
  {
   "cell_type": "code",
   "execution_count": null,
   "id": "9b563e36-3d67-471a-9f6a-cb02dc4bfed4",
   "metadata": {},
   "outputs": [],
   "source": []
  }
 ],
 "metadata": {
  "kernelspec": {
   "display_name": "Python 3 (ipykernel)",
   "language": "python",
   "name": "python3"
  },
  "language_info": {
   "codemirror_mode": {
    "name": "ipython",
    "version": 3
   },
   "file_extension": ".py",
   "mimetype": "text/x-python",
   "name": "python",
   "nbconvert_exporter": "python",
   "pygments_lexer": "ipython3",
   "version": "3.11.7"
  },
  "widgets": {
   "application/vnd.jupyter.widget-state+json": {
    "state": {},
    "version_major": 2,
    "version_minor": 0
   }
  }
 },
 "nbformat": 4,
 "nbformat_minor": 5
}
